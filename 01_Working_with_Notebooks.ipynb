{
  "nbformat": 4,
  "nbformat_minor": 0,
  "metadata": {
    "colab": {
      "provenance": [],
      "toc_visible": true,
      "authorship_tag": "ABX9TyPyeULyaz6lntQHZfajLFKK",
      "include_colab_link": true
    },
    "kernelspec": {
      "name": "python3",
      "display_name": "Python 3"
    },
    "language_info": {
      "name": "python"
    }
  },
  "cells": [
    {
      "cell_type": "markdown",
      "metadata": {
        "id": "view-in-github",
        "colab_type": "text"
      },
      "source": [
        "<a href=\"https://colab.research.google.com/github/paulommaia/Python_Workshop_Symbio2023/blob/main/01_Working_with_Notebooks.ipynb\" target=\"_parent\"><img src=\"https://colab.research.google.com/assets/colab-badge.svg\" alt=\"Open In Colab\"/></a>"
      ]
    },
    {
      "cell_type": "markdown",
      "source": [
        "## Types of Notebooks\n",
        "\n",
        "Notebooks are made up of cells. There are two types of cells:\n",
        "\n",
        "- code cell: used for writing and executing code. Once you type inside the cell, press the SHIFT and RETURN (enter key) together to run the cell.\n",
        "\n",
        "- text cell: used for writing text, HTML, Markdown, etc."
      ],
      "metadata": {
        "id": "p4LBE3Esv2nL"
      }
    },
    {
      "cell_type": "code",
      "source": [
        "print(\"Hello world!\")"
      ],
      "metadata": {
        "colab": {
          "base_uri": "https://localhost:8080/"
        },
        "id": "Qd2edAG3uj10",
        "outputId": "8060b619-de6c-4c11-e887-3fa1d35b856e"
      },
      "execution_count": 2,
      "outputs": [
        {
          "output_type": "stream",
          "name": "stdout",
          "text": [
            "Hello world!\n"
          ]
        }
      ]
    },
    {
      "cell_type": "markdown",
      "source": [
        "Out of the scope of this workshop will be a local Python installation. Google Collab uses Google's computers to run a Python server.\n",
        "\n",
        "Later, you can try installing Python (for example, via [Anaconda](https://www.anaconda.com/products/distribution), and open a terminal - called Anaconda Prompt - running the following commands)\n",
        "\n",
        "```\n",
        "pip install jupyterlab\n",
        "jupyter lab\n",
        "```\n",
        "\n"
      ],
      "metadata": {
        "id": "LOmcRzUEwFOk"
      }
    },
    {
      "cell_type": "markdown",
      "source": [
        "# References\n",
        "\n",
        "- https://madewithml.com/courses/foundations/notebooks/"
      ],
      "metadata": {
        "id": "Qhu02-vfv61L"
      }
    }
  ]
}