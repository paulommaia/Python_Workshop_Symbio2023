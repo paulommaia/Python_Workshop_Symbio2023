{
  "nbformat": 4,
  "nbformat_minor": 0,
  "metadata": {
    "colab": {
      "provenance": [],
      "toc_visible": true,
      "collapsed_sections": [
        "0QTbeZrN9D_j"
      ],
      "authorship_tag": "ABX9TyOTUbAPJd0QB4BBGKUll/u8",
      "include_colab_link": true
    },
    "kernelspec": {
      "name": "python3",
      "display_name": "Python 3"
    },
    "language_info": {
      "name": "python"
    }
  },
  "cells": [
    {
      "cell_type": "markdown",
      "metadata": {
        "id": "view-in-github",
        "colab_type": "text"
      },
      "source": [
        "<a href=\"https://colab.research.google.com/github/paulommaia/Python_Workshop_Symbio2023/blob/main/02_Python.ipynb\" target=\"_parent\"><img src=\"https://colab.research.google.com/assets/colab-badge.svg\" alt=\"Open In Colab\"/></a>"
      ]
    },
    {
      "cell_type": "markdown",
      "source": [
        "# Variables\n",
        "\n",
        "Variables are containers for holding data and they're defined by a name and value.\n"
      ],
      "metadata": {
        "id": "lduUBZrSzjQe"
      }
    },
    {
      "cell_type": "code",
      "source": [
        "# Integer variable\n",
        "x = 5\n",
        "print (x)\n",
        "print (type(x))"
      ],
      "metadata": {
        "colab": {
          "base_uri": "https://localhost:8080/"
        },
        "id": "lEQqBGFMzkHl",
        "outputId": "0a245c9e-2965-4a37-df34-bd5d0f75aaf2"
      },
      "execution_count": 1,
      "outputs": [
        {
          "output_type": "stream",
          "name": "stdout",
          "text": [
            "5\n",
            "<class 'int'>\n"
          ]
        }
      ]
    },
    {
      "cell_type": "code",
      "source": [
        "# String variable\n",
        "x = \"hello\"\n",
        "print (x)\n",
        "\n",
        "# float variable\n",
        "x = 5.0\n",
        "print(x)\n",
        "\n",
        "# boolean variable\n",
        "x = True\n",
        "print(x)"
      ],
      "metadata": {
        "colab": {
          "base_uri": "https://localhost:8080/"
        },
        "id": "17mNxfIjzoO9",
        "outputId": "53da83cf-b6b8-46fb-9cb1-9c10e9bc7528"
      },
      "execution_count": 2,
      "outputs": [
        {
          "output_type": "stream",
          "name": "stdout",
          "text": [
            "hello\n",
            "5.0\n",
            "True\n"
          ]
        }
      ]
    },
    {
      "cell_type": "markdown",
      "source": [
        "We can also add variables... But be careful not to add strings!"
      ],
      "metadata": {
        "id": "rsvCXCwB0Wlp"
      }
    },
    {
      "cell_type": "code",
      "source": [
        "a = 1\n",
        "b = 2\n",
        "c = a + b\n",
        "print(c)"
      ],
      "metadata": {
        "colab": {
          "base_uri": "https://localhost:8080/"
        },
        "id": "L6pI_rJ00akU",
        "outputId": "ef384ea6-d951-4d73-b165-9c463f1722c2"
      },
      "execution_count": 4,
      "outputs": [
        {
          "output_type": "stream",
          "name": "stdout",
          "text": [
            "3\n"
          ]
        }
      ]
    },
    {
      "cell_type": "code",
      "source": [
        "c = str(a) + str(b)\n",
        "print(c)"
      ],
      "metadata": {
        "colab": {
          "base_uri": "https://localhost:8080/"
        },
        "id": "GkbJdeNf0cHI",
        "outputId": "6e25465f-e049-45a6-fc21-2f03eba8675e"
      },
      "execution_count": 5,
      "outputs": [
        {
          "output_type": "stream",
          "name": "stdout",
          "text": [
            "12\n"
          ]
        }
      ]
    },
    {
      "cell_type": "markdown",
      "source": [
        "## Lists\n",
        "\n",
        "Lists are an ordered, mutable (changeable) collection of values that are comma separated and enclosed by square brackets. A list can be comprised of many different types of variables."
      ],
      "metadata": {
        "id": "Cybibu3U0kKh"
      }
    },
    {
      "cell_type": "code",
      "source": [
        "# Creating a list\n",
        "x = [3, \"hello\", 1.2]\n",
        "print (x)\n",
        "\n",
        "print(len(x))"
      ],
      "metadata": {
        "colab": {
          "base_uri": "https://localhost:8080/"
        },
        "id": "u40r_kQj0lZA",
        "outputId": "a1fed544-0e9a-4782-989f-c51ef75a70c0"
      },
      "execution_count": 6,
      "outputs": [
        {
          "output_type": "stream",
          "name": "stdout",
          "text": [
            "[3, 'hello', 1.2]\n",
            "3\n"
          ]
        }
      ]
    },
    {
      "cell_type": "code",
      "source": [
        "# Appending to a list\n",
        "\n",
        "x.append(\"world\")\n",
        "print(x)"
      ],
      "metadata": {
        "colab": {
          "base_uri": "https://localhost:8080/"
        },
        "id": "FuWsAz5p0p1_",
        "outputId": "45644abb-d103-4b37-f95d-c7fefac0478b"
      },
      "execution_count": 7,
      "outputs": [
        {
          "output_type": "stream",
          "name": "stdout",
          "text": [
            "[3, 'hello', 1.2, 'world']\n"
          ]
        }
      ]
    },
    {
      "cell_type": "code",
      "source": [
        "# Replacing items in a list\n",
        "\n",
        "x[0] = 2\n",
        "print(x)"
      ],
      "metadata": {
        "colab": {
          "base_uri": "https://localhost:8080/"
        },
        "id": "cyzU9JR40uY5",
        "outputId": "14b8757a-292f-4cff-965b-23770b7e6b24"
      },
      "execution_count": 8,
      "outputs": [
        {
          "output_type": "stream",
          "name": "stdout",
          "text": [
            "[2, 'hello', 1.2, 'world']\n"
          ]
        }
      ]
    },
    {
      "cell_type": "code",
      "source": [
        "# Concatenating lists\n",
        "\n",
        "z = x + x\n",
        "print(z)"
      ],
      "metadata": {
        "colab": {
          "base_uri": "https://localhost:8080/"
        },
        "id": "pVN2jIQF00A1",
        "outputId": "dade74f0-1a9e-4f40-820d-eacacd495fe9"
      },
      "execution_count": 10,
      "outputs": [
        {
          "output_type": "stream",
          "name": "stdout",
          "text": [
            "[2, 'hello', 1.2, 'world', 2, 'hello', 1.2, 'world']\n"
          ]
        }
      ]
    },
    {
      "cell_type": "markdown",
      "source": [
        "## Tuples\n",
        "\n",
        "Tuples are collections that are ordered and immutable (unchangeable). You will use these to store values that will never be changed."
      ],
      "metadata": {
        "id": "iGkiJDDm0-Jp"
      }
    },
    {
      "cell_type": "code",
      "source": [
        "# Creating a tuple\n",
        "coordinates = (41.178422880788844, -8.595845401842306) # tuples start and end with ()\n",
        "print (x)     "
      ],
      "metadata": {
        "colab": {
          "base_uri": "https://localhost:8080/"
        },
        "id": "xYXopxQW1GTm",
        "outputId": "f22c1f55-fce3-4b44-bd14-f907e7a45b32"
      },
      "execution_count": 13,
      "outputs": [
        {
          "output_type": "stream",
          "name": "stdout",
          "text": [
            "[1.2, 'hello', 1.2, 'world']\n"
          ]
        }
      ]
    },
    {
      "cell_type": "code",
      "source": [
        "# Changing it doesn't work!\n",
        "\n",
        "coordinates[0] = 1.2"
      ],
      "metadata": {
        "colab": {
          "base_uri": "https://localhost:8080/",
          "height": 165
        },
        "id": "m77TCUjh1OUn",
        "outputId": "7b263dce-b622-4c81-d58d-9b9955c58f9e"
      },
      "execution_count": 14,
      "outputs": [
        {
          "output_type": "error",
          "ename": "TypeError",
          "evalue": "ignored",
          "traceback": [
            "\u001b[0;31m---------------------------------------------------------------------------\u001b[0m",
            "\u001b[0;31mTypeError\u001b[0m                                 Traceback (most recent call last)",
            "\u001b[0;32m<ipython-input-14-d768e75bf33e>\u001b[0m in \u001b[0;36m<module>\u001b[0;34m\u001b[0m\n\u001b[0;32m----> 1\u001b[0;31m \u001b[0mcoordinates\u001b[0m\u001b[0;34m[\u001b[0m\u001b[0;36m0\u001b[0m\u001b[0;34m]\u001b[0m \u001b[0;34m=\u001b[0m \u001b[0;36m1.2\u001b[0m\u001b[0;34m\u001b[0m\u001b[0;34m\u001b[0m\u001b[0m\n\u001b[0m",
            "\u001b[0;31mTypeError\u001b[0m: 'tuple' object does not support item assignment"
          ]
        }
      ]
    },
    {
      "cell_type": "code",
      "source": [],
      "metadata": {
        "id": "H3Aq7FMh1Qsy"
      },
      "execution_count": null,
      "outputs": []
    },
    {
      "cell_type": "markdown",
      "source": [
        "## Sets\n",
        "\n",
        "Sets are collections that are unordered and mutable. However, every item in a set must be unique.\n",
        "\n",
        "Pretty good for removing duplicates out of a list, and discovering differences between sets!"
      ],
      "metadata": {
        "id": "S2iVpuAY1k8M"
      }
    },
    {
      "cell_type": "code",
      "source": [
        "list_names = [\n",
        "    \"Bio\",\n",
        "    \"Engineering\",\n",
        "    \"Bio\"\n",
        "]\n",
        "\n",
        "print(list_names)\n",
        "\n",
        "print(set(list_names))"
      ],
      "metadata": {
        "colab": {
          "base_uri": "https://localhost:8080/"
        },
        "id": "wOgOljM41l0d",
        "outputId": "c570c3ba-ca8c-4b5b-e68b-4ce76879d867"
      },
      "execution_count": 16,
      "outputs": [
        {
          "output_type": "stream",
          "name": "stdout",
          "text": [
            "['Bio', 'Engineering', 'Bio']\n",
            "{'Engineering', 'Bio'}\n"
          ]
        }
      ]
    },
    {
      "cell_type": "code",
      "source": [
        "# Subtracting sets gives us unique elements\n",
        "\n",
        "{'yellow', 'blue'} - {'blue'}"
      ],
      "metadata": {
        "colab": {
          "base_uri": "https://localhost:8080/"
        },
        "id": "j2BBalvm1vQF",
        "outputId": "74b3d47f-a02d-4d61-be21-3928b4d9569c"
      },
      "execution_count": 17,
      "outputs": [
        {
          "output_type": "execute_result",
          "data": {
            "text/plain": [
              "{'yellow'}"
            ]
          },
          "metadata": {},
          "execution_count": 17
        }
      ]
    },
    {
      "cell_type": "code",
      "source": [
        "# Intersecting sets gives us the intersection between the elements in a set\n",
        "\n",
        "{'yellow', 'blue'} & {'blue'}"
      ],
      "metadata": {
        "colab": {
          "base_uri": "https://localhost:8080/"
        },
        "id": "stVzeec21551",
        "outputId": "566ad586-c82d-4e0a-e64d-071fb7b95185"
      },
      "execution_count": 18,
      "outputs": [
        {
          "output_type": "execute_result",
          "data": {
            "text/plain": [
              "{'blue'}"
            ]
          },
          "metadata": {},
          "execution_count": 18
        }
      ]
    },
    {
      "cell_type": "code",
      "source": [
        "# Unioning sets gives us the union between the elements in a set\n",
        "\n",
        "{'yellow', 'blue'} | {'blue', 'orange'}"
      ],
      "metadata": {
        "colab": {
          "base_uri": "https://localhost:8080/"
        },
        "id": "SYuhFyuJ1-4o",
        "outputId": "9edbf7c3-d84b-4970-f7d6-8f07d6394502"
      },
      "execution_count": 19,
      "outputs": [
        {
          "output_type": "execute_result",
          "data": {
            "text/plain": [
              "{'blue', 'orange', 'yellow'}"
            ]
          },
          "metadata": {},
          "execution_count": 19
        }
      ]
    },
    {
      "cell_type": "markdown",
      "source": [
        "## Dictionaries\n",
        "\n",
        "Dictionaries are an unordered, mutable and indexed collection of key-value pairs. You can retrieve values based on the key and a dictionary cannot have two of the same keys."
      ],
      "metadata": {
        "id": "I6MWKQ7q2Yd5"
      }
    },
    {
      "cell_type": "code",
      "source": [
        "# Creating a dictionary\n",
        "person = {\"name\": \"Paulo\",\n",
        "          \"age\": 26}\n",
        "\n",
        "print (person)\n",
        "print (person[\"name\"])\n",
        "print (person[\"age\"])"
      ],
      "metadata": {
        "colab": {
          "base_uri": "https://localhost:8080/"
        },
        "id": "pXG-z_J92anz",
        "outputId": "c0a1455d-a8ed-423d-88cb-8ce35b5dfeab"
      },
      "execution_count": 22,
      "outputs": [
        {
          "output_type": "stream",
          "name": "stdout",
          "text": [
            "{'name': 'Paulo', 'age': 26}\n",
            "Paulo\n",
            "26\n"
          ]
        }
      ]
    },
    {
      "cell_type": "code",
      "source": [
        "# Changing the value for a key\n",
        "person[\"name\"] = \"Paulo Maia\"\n",
        "print (person)"
      ],
      "metadata": {
        "colab": {
          "base_uri": "https://localhost:8080/"
        },
        "id": "Xb25qMXt2mbJ",
        "outputId": "1955dc7a-6f95-44bd-86e5-5368c65caf0d"
      },
      "execution_count": 23,
      "outputs": [
        {
          "output_type": "stream",
          "name": "stdout",
          "text": [
            "{'name': 'Paulo Maia', 'age': 26}\n"
          ]
        }
      ]
    },
    {
      "cell_type": "markdown",
      "source": [
        "## All together now!"
      ],
      "metadata": {
        "id": "nE_OghmF21Ps"
      }
    },
    {
      "cell_type": "markdown",
      "source": [
        "We can create, for instance, lists of dictionaries with multiple variable types!"
      ],
      "metadata": {
        "id": "L-FxRyH724gl"
      }
    },
    {
      "cell_type": "code",
      "source": [
        "people = [\n",
        "    {\"name\": \"Paulo\", \"age\": 26},\n",
        "    {\"name\": \"Paulo Maia\", \"age\": 26},\n",
        "]\n",
        "\n",
        "[x['name'] for x in people]"
      ],
      "metadata": {
        "colab": {
          "base_uri": "https://localhost:8080/"
        },
        "id": "7NhPPixg22gv",
        "outputId": "c2af795d-b8ba-44af-f8aa-e4bb7b7e9dee"
      },
      "execution_count": 24,
      "outputs": [
        {
          "output_type": "execute_result",
          "data": {
            "text/plain": [
              "['Paulo', 'Paulo Maia']"
            ]
          },
          "metadata": {},
          "execution_count": 24
        }
      ]
    },
    {
      "cell_type": "markdown",
      "source": [
        "# List Slicing\n",
        "\n",
        "Indexing and slicing allow us to retrieve specific values. Note that indices can be positive (starting from 0) or negative (-1 and lower, where -1 is the last item)."
      ],
      "metadata": {
        "id": "2zXE1KUk2zcW"
      }
    },
    {
      "cell_type": "code",
      "source": [
        "# Indexing\n",
        "x = [3, \"hello\", 1.2]\n",
        "print (\"x[0]: \", x[0])\n",
        "print (\"x[1]: \", x[1])\n",
        "print (\"x[-1]: \", x[-1]) # the last item\n",
        "print (\"x[-2]: \", x[-2]) # the second to last item"
      ],
      "metadata": {
        "colab": {
          "base_uri": "https://localhost:8080/"
        },
        "id": "1FLFPpC620uX",
        "outputId": "2e5ade57-d1b6-4953-abd5-a1cc2e3cbba0"
      },
      "execution_count": 25,
      "outputs": [
        {
          "output_type": "stream",
          "name": "stdout",
          "text": [
            "x[0]:  3\n",
            "x[1]:  hello\n",
            "x[-1]:  1.2\n",
            "x[-2]:  hello\n"
          ]
        }
      ]
    },
    {
      "cell_type": "code",
      "source": [
        "# Slicing\n",
        "print (\"x[:]: \", x[:]) # all indices\n",
        "print (\"x[1:]: \", x[1:]) # index 1 to the end of the list\n",
        "print (\"x[1:2]: \", x[1:2]) # index 1 to index 2 (not including index 2)\n",
        "print (\"x[:-1]: \", x[:-1]) # index 0 to last index (not including last index)"
      ],
      "metadata": {
        "colab": {
          "base_uri": "https://localhost:8080/"
        },
        "id": "9Dh3OxS73LkY",
        "outputId": "2600618a-9498-499f-879b-607c48ba2635"
      },
      "execution_count": 26,
      "outputs": [
        {
          "output_type": "stream",
          "name": "stdout",
          "text": [
            "x[:]:  [3, 'hello', 1.2]\n",
            "x[1:]:  ['hello', 1.2]\n",
            "x[1:2]:  ['hello']\n",
            "x[:-1]:  [3, 'hello']\n"
          ]
        }
      ]
    },
    {
      "cell_type": "markdown",
      "source": [
        "# If Statements\n",
        "\n",
        "We can use if statements to conditionally do something. The conditions are defined by the words `if`, `elif` and `else`. We can have as many `elif` statements as we want. The indented code below each condition is the code that will execute if the condition is True."
      ],
      "metadata": {
        "id": "1YafiJYB3VyE"
      }
    },
    {
      "cell_type": "code",
      "source": [
        "# If statement\n",
        "x = 4\n",
        "if x < 1:\n",
        "    score = \"low\"\n",
        "elif x <= 4: # else if\n",
        "    score = \"medium\"\n",
        "else:\n",
        "    score = \"high\"\n",
        "print (score)"
      ],
      "metadata": {
        "colab": {
          "base_uri": "https://localhost:8080/"
        },
        "id": "90P_OX273WT0",
        "outputId": "daecd690-1774-43b1-ba26-2cbe8c796b47"
      },
      "execution_count": 27,
      "outputs": [
        {
          "output_type": "stream",
          "name": "stdout",
          "text": [
            "medium\n"
          ]
        }
      ]
    },
    {
      "cell_type": "code",
      "source": [
        "# If statement with a boolean\n",
        "x = True\n",
        "if x:\n",
        "    print (\"I entered if clause\")\n",
        "else:\n",
        "    print(\"I entered else\")"
      ],
      "metadata": {
        "colab": {
          "base_uri": "https://localhost:8080/"
        },
        "id": "DzOgAUkd3iug",
        "outputId": "dab5ddb4-0026-4365-f93a-078f6e0e3e80"
      },
      "execution_count": 29,
      "outputs": [
        {
          "output_type": "stream",
          "name": "stdout",
          "text": [
            "I entered if clause\n"
          ]
        }
      ]
    },
    {
      "cell_type": "markdown",
      "source": [
        "# Loops"
      ],
      "metadata": {
        "id": "Mbxq9dl43xcp"
      }
    },
    {
      "cell_type": "markdown",
      "source": [
        "## For Loops\n",
        "\n",
        "A `for` loop can iterate over a collection of values (lists, tuples, dictionaries, etc.) The indented code is executed for each item in the collection of values.\n",
        "\n"
      ],
      "metadata": {
        "id": "Zo2ekJdV30Mn"
      }
    },
    {
      "cell_type": "code",
      "source": [
        "panels = [\"Made in Bio\", \"Bio, the Builder\", \"Sea to Believe\"]\n",
        "for panel in panels:\n",
        "    print (panel)"
      ],
      "metadata": {
        "colab": {
          "base_uri": "https://localhost:8080/"
        },
        "id": "hvNv4e-j33qy",
        "outputId": "74d438c3-57a0-4b32-b134-76c1a7effb1f"
      },
      "execution_count": 30,
      "outputs": [
        {
          "output_type": "stream",
          "name": "stdout",
          "text": [
            "Made in Bio\n",
            "Bio, the Builder\n",
            "Sea to Believe\n"
          ]
        }
      ]
    },
    {
      "cell_type": "code",
      "source": [
        "panels = [\"Made in Bio\", \"Bio, the Builder\", \"Sea to Believe\"]\n",
        "for i in range(len(panels)):\n",
        "    print (panels[i])"
      ],
      "metadata": {
        "colab": {
          "base_uri": "https://localhost:8080/"
        },
        "id": "C760BtS14EUW",
        "outputId": "50d56b12-1642-4935-8ecc-3b13372f6784"
      },
      "execution_count": 31,
      "outputs": [
        {
          "output_type": "stream",
          "name": "stdout",
          "text": [
            "Made in Bio\n",
            "Bio, the Builder\n",
            "Sea to Believe\n"
          ]
        }
      ]
    },
    {
      "cell_type": "code",
      "source": [
        "panels = [\"Made in Bio\", \"Bio, the Builder\", \"Sea to Believe\"]\n",
        "for i, value in enumerate(panels):\n",
        "    print (panels[i], \"--\", value)"
      ],
      "metadata": {
        "colab": {
          "base_uri": "https://localhost:8080/"
        },
        "id": "XrgA8IEC4JFv",
        "outputId": "0200c00a-d9b4-4795-a796-59e70566d854"
      },
      "execution_count": 36,
      "outputs": [
        {
          "output_type": "stream",
          "name": "stdout",
          "text": [
            "Made in Bio -- Made in Bio\n",
            "Bio, the Builder -- Bio, the Builder\n",
            "Sea to Believe -- Sea to Believe\n"
          ]
        }
      ]
    },
    {
      "cell_type": "markdown",
      "source": [
        "## While Loop\n",
        "\n",
        "A while loop can perform repeatedly as long as a condition is True."
      ],
      "metadata": {
        "id": "wk1Yllvg5Eac"
      }
    },
    {
      "cell_type": "code",
      "source": [
        "x = 3\n",
        "while x > 0:\n",
        "    x = x - 1\n",
        "    print (x)"
      ],
      "metadata": {
        "colab": {
          "base_uri": "https://localhost:8080/"
        },
        "id": "s60IHqbG5G9G",
        "outputId": "53993077-2c76-45ee-9faa-ce97a3e057db"
      },
      "execution_count": 37,
      "outputs": [
        {
          "output_type": "stream",
          "name": "stdout",
          "text": [
            "2\n",
            "1\n",
            "0\n"
          ]
        }
      ]
    },
    {
      "cell_type": "markdown",
      "source": [
        "## List Comprehension"
      ],
      "metadata": {
        "id": "kWJA-cTU5TZ8"
      }
    },
    {
      "cell_type": "code",
      "source": [
        "x = [1, 2, 3, 4, 5]\n",
        "y = []\n",
        "for item in x:\n",
        "    if item > 2:\n",
        "        y.append(item)\n",
        "print (y)"
      ],
      "metadata": {
        "colab": {
          "base_uri": "https://localhost:8080/"
        },
        "id": "dtC8g_sV5UPs",
        "outputId": "392a74f0-01a1-4057-89b8-9a4bff0b5ef6"
      },
      "execution_count": 38,
      "outputs": [
        {
          "output_type": "stream",
          "name": "stdout",
          "text": [
            "[3, 4, 5]\n"
          ]
        }
      ]
    },
    {
      "cell_type": "code",
      "source": [
        "y = [item for item in x if item > 2]\n",
        "print (y)"
      ],
      "metadata": {
        "colab": {
          "base_uri": "https://localhost:8080/"
        },
        "id": "btbwF2W75XfV",
        "outputId": "52506958-52cb-4da4-bb0c-b1366287abab"
      },
      "execution_count": 39,
      "outputs": [
        {
          "output_type": "stream",
          "name": "stdout",
          "text": [
            "[3, 4, 5]\n"
          ]
        }
      ]
    },
    {
      "cell_type": "code",
      "source": [
        "# Nested for loops\n",
        "words = [\n",
        "    [\"Am\", \"ate\", \"ATOM\", \"apple\"], \n",
        "    [\"bE\", \"boy\", \"ball\", \"bloom\"]\n",
        "]\n",
        "small_words = []\n",
        "for word_list in words:\n",
        "    for word in word_list:\n",
        "        if len(word) < 3:\n",
        "            small_words.append(word.lower())\n",
        "print (small_words)"
      ],
      "metadata": {
        "colab": {
          "base_uri": "https://localhost:8080/"
        },
        "id": "69UVR7SU5cBz",
        "outputId": "8071f59a-9f22-4a53-91c6-0b2e6c5428a6"
      },
      "execution_count": 43,
      "outputs": [
        {
          "output_type": "stream",
          "name": "stdout",
          "text": [
            "['am', 'be']\n"
          ]
        }
      ]
    },
    {
      "cell_type": "code",
      "source": [
        "# List comprehension\n",
        "small_words = [word.lower() for word_list in words for word in word_list if len(word) < 3]\n",
        "print (small_words)"
      ],
      "metadata": {
        "colab": {
          "base_uri": "https://localhost:8080/"
        },
        "id": "LzWIplxi5it8",
        "outputId": "17e78b7b-c938-414d-a93b-14bbc91e4a0c"
      },
      "execution_count": 44,
      "outputs": [
        {
          "output_type": "stream",
          "name": "stdout",
          "text": [
            "['am', 'be']\n"
          ]
        }
      ]
    },
    {
      "cell_type": "markdown",
      "source": [
        "## Functions\n",
        "Functions are a way to modularize reusable pieces of code. They're defined by the keyword `def` which stands for definition and they can have the following components.\n",
        "\n",
        "![image](https://camo.githubusercontent.com/f3d9b4c16ccc4f6efe9e6b20515128c77ec2e5ca7060c1677273c23cb80c92e9/68747470733a2f2f6d616465776974686d6c2e636f6d2f7374617469632f696d616765732f666f756e646174696f6e732f707974686f6e2f66756e6374696f6e732e706e67)\n"
      ],
      "metadata": {
        "id": "bt2uaa6a5vws"
      }
    },
    {
      "cell_type": "code",
      "source": [
        "# Define the function\n",
        "def add_three(x):\n",
        "    \"\"\"Increase x by 3.\"\"\" # explains what this function will do\n",
        "    x += 3 # Equivalent to x = x + 3\n",
        "    return x"
      ],
      "metadata": {
        "id": "8APg2xes5539"
      },
      "execution_count": 45,
      "outputs": []
    },
    {
      "cell_type": "code",
      "source": [
        "add_three(3)"
      ],
      "metadata": {
        "colab": {
          "base_uri": "https://localhost:8080/"
        },
        "id": "yi7ZewRa6JjE",
        "outputId": "d35fffd4-4d5e-4e84-9182-cf78708a9504"
      },
      "execution_count": 46,
      "outputs": [
        {
          "output_type": "execute_result",
          "data": {
            "text/plain": [
              "6"
            ]
          },
          "metadata": {},
          "execution_count": 46
        }
      ]
    },
    {
      "cell_type": "code",
      "source": [
        "# Function with multiple inputs\n",
        "def join_name(first_name, last_name):\n",
        "    \"\"\"Combine first name and last name.\"\"\"\n",
        "    joined_name = first_name + \" \" + last_name\n",
        "    return joined_name\n",
        "\n",
        "join_name(\"Paulo\", \"Maia\")"
      ],
      "metadata": {
        "colab": {
          "base_uri": "https://localhost:8080/",
          "height": 35
        },
        "id": "pNrAfs3w6KRU",
        "outputId": "4ec995c2-b8ee-4245-97db-ee7935a1f4a6"
      },
      "execution_count": 47,
      "outputs": [
        {
          "output_type": "execute_result",
          "data": {
            "text/plain": [
              "'Paulo Maia'"
            ],
            "application/vnd.google.colaboratory.intrinsic+json": {
              "type": "string"
            }
          },
          "metadata": {},
          "execution_count": 47
        }
      ]
    },
    {
      "cell_type": "code",
      "source": [
        "join_name(first_name = \"Paulo\", last_name = \"Maia\")"
      ],
      "metadata": {
        "colab": {
          "base_uri": "https://localhost:8080/",
          "height": 35
        },
        "id": "-IYwN4JO6TUB",
        "outputId": "4b62dd15-43bc-4a15-b847-f215f9843594"
      },
      "execution_count": 48,
      "outputs": [
        {
          "output_type": "execute_result",
          "data": {
            "text/plain": [
              "'Paulo Maia'"
            ],
            "application/vnd.google.colaboratory.intrinsic+json": {
              "type": "string"
            }
          },
          "metadata": {},
          "execution_count": 48
        }
      ]
    },
    {
      "cell_type": "markdown",
      "source": [
        "## Classes\n",
        "Classes are object constructors and are a fundamental component of object oriented programming in Python. They are composed of a set of functions that define the class and it's operations."
      ],
      "metadata": {
        "id": "zEkbpFY76qRG"
      }
    },
    {
      "cell_type": "code",
      "source": [
        "# Creating the class\n",
        "class Pet(object):\n",
        "    \"\"\"Class object for a pet.\"\"\"\n",
        "    \n",
        "    def __init__(self, species, name):\n",
        "        \"\"\"Initialize a Pet.\"\"\"\n",
        "        self.species = species\n",
        "        self.name = name\n",
        "\n",
        "# Creating an instance of a class\n",
        "my_dog = Pet(species=\"dog\", \n",
        "             name=\"Scooby\")\n",
        "\n",
        "\n",
        "print (my_dog.name)\n",
        "\n",
        "print (my_dog)\n",
        "\n",
        "print (dir(my_dog))\n"
      ],
      "metadata": {
        "colab": {
          "base_uri": "https://localhost:8080/"
        },
        "id": "kBjw8RTn6tIk",
        "outputId": "9612eb18-76f3-4861-dd99-6942031e2138"
      },
      "execution_count": 53,
      "outputs": [
        {
          "output_type": "stream",
          "name": "stdout",
          "text": [
            "Scooby\n",
            "<__main__.Pet object at 0x7f393a7de340>\n",
            "['__class__', '__delattr__', '__dict__', '__dir__', '__doc__', '__eq__', '__format__', '__ge__', '__getattribute__', '__gt__', '__hash__', '__init__', '__init_subclass__', '__le__', '__lt__', '__module__', '__ne__', '__new__', '__reduce__', '__reduce_ex__', '__repr__', '__setattr__', '__sizeof__', '__str__', '__subclasshook__', '__weakref__', 'name', 'species']\n"
          ]
        }
      ]
    },
    {
      "cell_type": "markdown",
      "source": [
        "## Object methods"
      ],
      "metadata": {
        "id": "76DWNjYK7ZyY"
      }
    },
    {
      "cell_type": "code",
      "source": [
        "# Creating the class\n",
        "class Pet(object):\n",
        "    \"\"\"Class object for a pet.\"\"\"\n",
        "  \n",
        "    def __init__(self, species, name):\n",
        "        \"\"\"Initialize a Pet.\"\"\"\n",
        "        self.species = species\n",
        "        self.name = name\n",
        " \n",
        "    def __str__(self):\n",
        "        \"\"\"Output when printing an instance of a Pet.\"\"\"\n",
        "        return f\"{self.species} named {self.name}\"\n",
        "        \n",
        "    def change_name(self, new_name):\n",
        "        \"\"\"Change the name of your Pet.\"\"\"\n",
        "        self.name = new_name"
      ],
      "metadata": {
        "id": "LFkjLrou7agV"
      },
      "execution_count": 55,
      "outputs": []
    },
    {
      "cell_type": "code",
      "source": [
        "# Creating an instance of a class\n",
        "my_dog = Pet(species=\"dog\", name=\"Scooby\")\n",
        "print (my_dog)\n",
        "print (my_dog.name)\n",
        "\n",
        "\n",
        "# Using a class's function\n",
        "my_dog.change_name(new_name=\"Scrappy\")\n",
        "print (my_dog)\n",
        "print (my_dog.name)"
      ],
      "metadata": {
        "colab": {
          "base_uri": "https://localhost:8080/"
        },
        "id": "P7v5s9OL7c9Z",
        "outputId": "1774fea9-ff46-4b71-f302-cbce3d434553"
      },
      "execution_count": 56,
      "outputs": [
        {
          "output_type": "stream",
          "name": "stdout",
          "text": [
            "dog named Scooby\n",
            "Scooby\n",
            "dog named Scrappy\n",
            "Scrappy\n"
          ]
        }
      ]
    },
    {
      "cell_type": "markdown",
      "source": [
        "## Inheritance\n",
        "\n",
        "In \"Object Oriented Programming\", we can define child classes that inherit from parent classes.\n",
        "\n",
        "Wee inherit the initialized variables from the parent Pet class like species and name. We also inherited functions such as change_name()."
      ],
      "metadata": {
        "id": "67wCKq9V7qCt"
      }
    },
    {
      "cell_type": "code",
      "source": [
        "class Dog(Pet):\n",
        "    def __init__(self, name, breed):\n",
        "        super().__init__(species=\"dog\", name=name)\n",
        "        self.breed = breed\n",
        "    \n",
        "    def __str__(self):\n",
        "        return f\"A {self.breed} doggo named {self.name}\"\n",
        "\n",
        "scooby = Dog(breed=\"Great Dane\", name=\"Scooby\")\n",
        "print (scooby)\n",
        "\n",
        "scooby.change_name(\"Scooby Doo\")\n",
        "print (scooby)"
      ],
      "metadata": {
        "colab": {
          "base_uri": "https://localhost:8080/"
        },
        "id": "nSQbWivQ7yM9",
        "outputId": "bbe91645-4648-45f9-b7fd-ef2fa695aefd"
      },
      "execution_count": 57,
      "outputs": [
        {
          "output_type": "stream",
          "name": "stdout",
          "text": [
            "A Great Dane doggo named Scooby\n",
            "A Great Dane doggo named Scooby Doo\n"
          ]
        }
      ]
    },
    {
      "cell_type": "markdown",
      "source": [
        "# Exercise your brain!"
      ],
      "metadata": {
        "id": "kV4QtUVu8Lpn"
      }
    },
    {
      "cell_type": "markdown",
      "source": [
        "Don't use ChatGPT to generate the solution :D"
      ],
      "metadata": {
        "id": "vtYd16EA8l2c"
      }
    },
    {
      "cell_type": "markdown",
      "source": [
        "## Exercise 1\n",
        "\n",
        "Calculate area of a rectangle - Write a program that asks the user for the length and width of a rectangle, calculates the area, and prints the result to the console."
      ],
      "metadata": {
        "id": "0QTbeZrN9D_j"
      }
    },
    {
      "cell_type": "code",
      "source": [
        "# Ask the user for the length and width of the rectangle\n",
        "length = float(input(\"Enter the length of the rectangle: \"))\n",
        "width = float(input(\"Enter the width of the rectangle: \"))\n",
        "\n",
        "def get_rectangle_area(length, width):\n",
        "\n",
        "    # Calculate the area of the rectangle\n",
        "    area = length * width\n",
        "\n",
        "    # Print the result to the console\n",
        "    print(\"The area of the rectangle is:\", area)\n",
        "\n",
        "    return area"
      ],
      "metadata": {
        "id": "_MQSY4Fp9gAn"
      },
      "execution_count": null,
      "outputs": []
    },
    {
      "cell_type": "markdown",
      "source": [
        "## Exercise 2\n",
        "\n",
        "Write a program that asks the user to enter a word or phrase, and checks whether it is a palindrome (i.e., reads the same backwards as forwards). The program should print \"Yes\" or \"No\" depending on whether the input is a palindrome or not."
      ],
      "metadata": {
        "id": "CcPrw88r8cFt"
      }
    },
    {
      "cell_type": "code",
      "source": [
        "# Ask the user to enter a word or phrase\n",
        "string = input(\"Enter a word or phrase: \")\n",
        "\n",
        "# Remove any whitespace and convert to lowercase\n",
        "string = string.lower()\n",
        "\n",
        "# Check if the string is equal to its reverse\n",
        "if string == string[::-1]:\n",
        "    print(\"Yes, it is a palindrome\")\n",
        "else:\n",
        "    print(\"No, it is not a palindrome\")"
      ],
      "metadata": {
        "colab": {
          "base_uri": "https://localhost:8080/"
        },
        "id": "uP5JIXrC8bOj",
        "outputId": "9f25c97c-95b1-44c4-81b5-57f6e6fdcae5"
      },
      "execution_count": 60,
      "outputs": [
        {
          "output_type": "stream",
          "name": "stdout",
          "text": [
            "Enter a word or phrase: Paulo\n",
            "No, it is not a palindrome\n"
          ]
        }
      ]
    },
    {
      "cell_type": "markdown",
      "source": [
        "## Exercise 3\n",
        "\n",
        "Guess the number game - Write a program that generates a random number between 1 and 100 and asks the user to guess the number. If the user's guess is too high or too low, the program should give a hint and ask the user to guess again. The program should continue until the user guesses the correct number.\n",
        "\n",
        "NOTE: Check for the \"random\" python library in Google, and see how you can use it to generate random numbers between 1 and 100"
      ],
      "metadata": {
        "id": "IYHeSRsJ9z-e"
      }
    },
    {
      "cell_type": "code",
      "source": [
        "import random\n",
        "\n",
        "# Generate a random number between 1 and 100\n",
        "number = random.randint(1, 100)\n",
        "\n",
        "# Initialize the guess variable to a value outside the range of the random number\n",
        "guess = 0\n",
        "\n",
        "# Keep looping until the user guesses the correct number\n",
        "while guess != number:\n",
        "    # Ask the user to guess the number\n",
        "    guess = int(input(\"Guess the number (between 1 and 100): \"))\n",
        "    \n",
        "    # Check if the guess is too high or too low\n",
        "    if guess > number:\n",
        "        print(\"Too high! Guess again.\")\n",
        "    elif guess < number:\n",
        "        print(\"Too low! Guess again.\")\n",
        "    else:\n",
        "        print(\"Congratulations! You guessed the number!\")"
      ],
      "metadata": {
        "colab": {
          "base_uri": "https://localhost:8080/"
        },
        "id": "XpK8Bfyr91HN",
        "outputId": "d5108357-62ae-41d0-f4dd-f50a76759fb2"
      },
      "execution_count": 61,
      "outputs": [
        {
          "output_type": "stream",
          "name": "stdout",
          "text": [
            "Guess the number (between 1 and 100): 30\n",
            "Too high! Guess again.\n",
            "Guess the number (between 1 and 100): 20\n",
            "Too high! Guess again.\n",
            "Guess the number (between 1 and 100): 10\n",
            "Too low! Guess again.\n",
            "Guess the number (between 1 and 100): 11\n",
            "Too low! Guess again.\n",
            "Guess the number (between 1 and 100): 15\n",
            "Too low! Guess again.\n",
            "Guess the number (between 1 and 100): 14\n",
            "Too low! Guess again.\n",
            "Guess the number (between 1 and 100): 17\n",
            "Too low! Guess again.\n",
            "Guess the number (between 1 and 100): 18\n",
            "Too low! Guess again.\n",
            "Guess the number (between 1 and 100): 19\n",
            "Congratulations! You guessed the number!\n"
          ]
        }
      ]
    },
    {
      "cell_type": "markdown",
      "source": [
        "# References\n",
        "\n",
        "- https://chat.openai.com/chat\n",
        "- https://github.com/GokuMohandas/Made-With-ML/blob/main/notebooks/02_Python.ipynb"
      ],
      "metadata": {
        "id": "s3XJh7kZ-E0a"
      }
    }
  ]
}